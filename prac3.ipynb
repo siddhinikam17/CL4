{
 "cells": [
  {
   "cell_type": "code",
   "execution_count": 9,
   "id": "ff432af5-c408-4fc8-8872-08e0d8b46e11",
   "metadata": {},
   "outputs": [
    {
     "name": "stdout",
     "output_type": "stream",
     "text": [
      "Union of A and B: {'x': 0.6, 'y': 0.8}\n"
     ]
    }
   ],
   "source": [
    "# Fuzzy Sets (as simple dictionaries with elements and their membership values)\n",
    "A = {'x': 0.6, 'y': 0.8}\n",
    "B = {'x': 0.4, 'y': 0.5}\n",
    "\n",
    "# 1. Union of two fuzzy sets (max value for each element)\n",
    "union = {}\n",
    "for key in A:\n",
    "    union[key] = max(A[key], B[key])\n",
    "\n",
    "print(\"Union of A and B:\", union)\n",
    "\n"
   ]
  },
  {
   "cell_type": "code",
   "execution_count": 11,
   "id": "e27ce37f-1b92-4563-83f3-e593d09cb013",
   "metadata": {},
   "outputs": [
    {
     "name": "stdout",
     "output_type": "stream",
     "text": [
      "Intersection of A and B: {'x': 0.4, 'y': 0.5}\n"
     ]
    }
   ],
   "source": [
    "# 2. Intersection of two fuzzy sets (min value for each element)\n",
    "intersection = {}\n",
    "for key in A:\n",
    "    intersection[key] = min(A[key], B[key])\n",
    "\n",
    "print(\"Intersection of A and B:\", intersection)\n",
    "\n"
   ]
  },
  {
   "cell_type": "code",
   "execution_count": 13,
   "id": "4c94db84-1e58-40d2-b852-fb47ad57317e",
   "metadata": {},
   "outputs": [
    {
     "name": "stdout",
     "output_type": "stream",
     "text": [
      "Complement of A: {'x': 0.4, 'y': 0.19999999999999996}\n"
     ]
    }
   ],
   "source": [
    "# 3. Complement of a fuzzy set (1 - value for each element)\n",
    "complement_A = {}\n",
    "for key in A:\n",
    "    complement_A[key] = 1 - A[key]\n",
    "\n",
    "print(\"Complement of A:\", complement_A)\n",
    "\n"
   ]
  },
  {
   "cell_type": "code",
   "execution_count": 15,
   "id": "1efe6e9c-53ac-4075-81c8-c794e665bee0",
   "metadata": {},
   "outputs": [
    {
     "name": "stdout",
     "output_type": "stream",
     "text": [
      "Difference of A and B: {'x': 0.6, 'y': 0.5}\n"
     ]
    }
   ],
   "source": [
    "# 4. Difference of two fuzzy sets (min of A and (1 - B) for each element)\n",
    "difference = {}\n",
    "for key in A:\n",
    "    difference[key] = min(A[key], 1 - B[key])\n",
    "\n",
    "print(\"Difference of A and B:\", difference)\n",
    "\n",
    "# --- Fuzzy Relations ---\n",
    "\n"
   ]
  },
  {
   "cell_type": "code",
   "execution_count": 17,
   "id": "9b0427c5-3dd6-42cb-ad87-7f853e860d4a",
   "metadata": {},
   "outputs": [
    {
     "name": "stdout",
     "output_type": "stream",
     "text": [
      "Cartesian Product of A and B (R1): {('x', 'x'): 0.4, ('x', 'y'): 0.5, ('y', 'x'): 0.4, ('y', 'y'): 0.5}\n"
     ]
    }
   ],
   "source": [
    "# 5. Cartesian product of fuzzy sets A and B (combining each pair of elements from A and B)\n",
    "R1 = {}\n",
    "for a in A:\n",
    "    for b in B:\n",
    "        R1[(a, b)] = min(A[a], B[b])\n",
    "\n",
    "print(\"Cartesian Product of A and B (R1):\", R1)\n",
    "\n"
   ]
  },
  {
   "cell_type": "code",
   "execution_count": 19,
   "id": "03929415-7109-45f5-867e-872d93d3f103",
   "metadata": {},
   "outputs": [
    {
     "name": "stdout",
     "output_type": "stream",
     "text": [
      "Cartesian Product of B and A (R2): {('x', 'x'): 0.4, ('x', 'y'): 0.4, ('y', 'x'): 0.5, ('y', 'y'): 0.5}\n"
     ]
    }
   ],
   "source": [
    "#6.Cartesian product of fuzzy sets B and A(combining each pair of elements from B and A)\n",
    "\n",
    "R2 = {}\n",
    "for b in B:\n",
    "    for a in A:\n",
    "        R2[(b, a)] = min(B[b], A[a])\n",
    "\n",
    "print(\"Cartesian Product of B and A (R2):\", R2)\n",
    "\n",
    "\n"
   ]
  },
  {
   "cell_type": "code",
   "execution_count": 21,
   "id": "c9ee04fc-1bfc-46c6-9fc1-d1a82c72be8b",
   "metadata": {},
   "outputs": [
    {
     "name": "stdout",
     "output_type": "stream",
     "text": [
      "Max-Min Composition of R1 and R2: {('x', 'x'): 0.5, ('x', 'y'): 0.5, ('y', 'x'): 0.5, ('y', 'y'): 0.5}\n"
     ]
    }
   ],
   "source": [
    "#7. Max-Min composition: combining R1 and R2\n",
    "composition = {}\n",
    "for (a, b) in R1:\n",
    "    for (b2, c) in R2:\n",
    "        if b == b2:  # Matching common element (b)\n",
    "            key = (a, c)\n",
    "            composition[key] = max(composition.get(key, 0), min(R1[(a, b)], R2[(b2, c)]))\n",
    "\n",
    "print(\"Max-Min Composition of R1 and R2:\", composition)"
   ]
  },
  {
   "cell_type": "code",
   "execution_count": null,
   "id": "48302eda-3c4e-42b7-b185-f0c57ea40ce7",
   "metadata": {},
   "outputs": [],
   "source": []
  },
  {
   "cell_type": "code",
   "execution_count": null,
   "id": "a6b42497-e09d-4352-bfac-1295877301d4",
   "metadata": {},
   "outputs": [],
   "source": []
  }
 ],
 "metadata": {
  "kernelspec": {
   "display_name": "Python 3 (ipykernel)",
   "language": "python",
   "name": "python3"
  },
  "language_info": {
   "codemirror_mode": {
    "name": "ipython",
    "version": 3
   },
   "file_extension": ".py",
   "mimetype": "text/x-python",
   "name": "python",
   "nbconvert_exporter": "python",
   "pygments_lexer": "ipython3",
   "version": "3.12.4"
  }
 },
 "nbformat": 4,
 "nbformat_minor": 5
}
