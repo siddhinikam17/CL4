{
 "cells": [
  {
   "cell_type": "code",
   "execution_count": 1,
   "id": "ba556abe",
   "metadata": {},
   "outputs": [],
   "source": [
    "import numpy as np"
   ]
  },
  {
   "cell_type": "code",
   "execution_count": 2,
   "id": "944bf7e8",
   "metadata": {},
   "outputs": [],
   "source": [
    "# Generate dummy data for demonstration purposes (replace this with your actual data)\n",
    "def generate_dummy_data(samples=100, features=50):\n",
    "    data = np.random.rand(samples, features)\n",
    "    labels = np.random.randint(0, 2, size=samples)\n",
    "    return data, labels"
   ]
  },
  {
   "cell_type": "code",
   "execution_count": 5,
   "id": "fe65553b",
   "metadata": {},
   "outputs": [],
   "source": [
    "class AIRS:\n",
    "    def __init__(self, num_detectors=10, hypermutation_rate=0.1):\n",
    "        self.num_detectors = num_detectors\n",
    "        self.hypermutation_rate = hypermutation_rate\n",
    "\n",
    "    def train(self, X, y):\n",
    "        indices = np.random.choice(len(X), self.num_detectors, replace=False)\n",
    "        self.detectors = X[indices]\n",
    "        self.detector_labels = y[indices]  # Save their labels\n",
    "\n",
    "    def predict(self, X):\n",
    "        predictions = []\n",
    "        for sample in X:\n",
    "            distances = np.linalg.norm(self.detectors - sample, axis=1)\n",
    "            closest_idx = np.argmin(distances)\n",
    "            prediction = self.detector_labels[closest_idx]  # Return label\n",
    "            predictions.append(prediction)\n",
    "        return np.array(predictions)"
   ]
  },
  {
   "cell_type": "code",
   "execution_count": 6,
   "id": "f0455ac2",
   "metadata": {},
   "outputs": [],
   "source": [
    "# Generate dummy data\n",
    "data, labels = generate_dummy_data()"
   ]
  },
  {
   "cell_type": "code",
   "execution_count": 7,
   "id": "4a6af2bd",
   "metadata": {},
   "outputs": [],
   "source": [
    "# Split data into training and testing sets\n",
    "split_ratio = 0.8\n",
    "split_index = int(split_ratio * len(data))\n",
    "train_data, test_data = data[:split_index], data[split_index:]\n",
    "train_labels, test_labels = labels[:split_index], labels[split_index:]"
   ]
  },
  {
   "cell_type": "code",
   "execution_count": 13,
   "id": "f2972ca1",
   "metadata": {},
   "outputs": [
    {
     "name": "stdout",
     "output_type": "stream",
     "text": [
      "[1 0 1 0 1 0 0 0 0 0 0 0 1 1 0 0 0 0 0 0]\n",
      "Accuracy: 0.6\n"
     ]
    }
   ],
   "source": [
    "# Initialize and train AIRS\n",
    "airs = AIRS(num_detectors=10, hypermutation_rate=0.1)\n",
    "airs.train(train_data, train_labels)\n",
    "\n",
    "# Test AIRS on the test set\n",
    "predictions = airs.predict(test_data)\n",
    "print(predictions)\n",
    "\n",
    "# Evaluate accuracy\n",
    "accuracy = np.mean(predictions == test_labels)\n",
    "print(f\"Accuracy: {accuracy}\")"
   ]
  }
 ],
 "metadata": {
  "kernelspec": {
   "display_name": "Python 3 (ipykernel)",
   "language": "python",
   "name": "python3"
  },
  "language_info": {
   "codemirror_mode": {
    "name": "ipython",
    "version": 3
   },
   "file_extension": ".py",
   "mimetype": "text/x-python",
   "name": "python",
   "nbconvert_exporter": "python",
   "pygments_lexer": "ipython3",
   "version": "3.12.4"
  }
 },
 "nbformat": 4,
 "nbformat_minor": 5
}
