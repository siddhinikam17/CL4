{
 "cells": [
  {
   "cell_type": "code",
   "execution_count": 1,
   "id": "9f759333-b310-4ba2-8d02-bfe9f86bb7e7",
   "metadata": {},
   "outputs": [
    {
     "name": "stdout",
     "output_type": "stream",
     "text": [
      "Confusion Matrix:\n",
      " [[460  61]\n",
      " [ 44 435]]\n",
      "\n",
      "Classification Report:\n",
      "               precision    recall  f1-score   support\n",
      "\n",
      "        High       0.91      0.88      0.90       521\n",
      "         Low       0.88      0.91      0.89       479\n",
      "\n",
      "    accuracy                           0.90      1000\n",
      "   macro avg       0.89      0.90      0.89      1000\n",
      "weighted avg       0.90      0.90      0.90      1000\n",
      "\n"
     ]
    }
   ],
   "source": [
    "import pandas as pd\n",
    "from sklearn.model_selection import train_test_split\n",
    "from sklearn.ensemble import RandomForestClassifier\n",
    "from sklearn.metrics import classification_report, confusion_matrix\n",
    "from sklearn.preprocessing import LabelEncoder\n",
    "\n",
    "# Load dataset\n",
    "df = pd.read_csv('USA_Housing.csv')  # Replace with actual file path\n",
    "\n",
    "# Drop the address column\n",
    "df.drop('Address', axis=1, inplace=True)\n",
    "\n",
    "# Create binary classification target\n",
    "threshold = df['Price'].median()\n",
    "df['Price_Category'] = df['Price'].apply(lambda x: 'High' if x > threshold else 'Low')\n",
    "\n",
    "# Drop original price column\n",
    "df.drop('Price', axis=1, inplace=True)\n",
    "\n",
    "# Split features and target\n",
    "X = df.drop('Price_Category', axis=1)\n",
    "y = df['Price_Category']\n",
    "\n",
    "# Encode target\n",
    "le = LabelEncoder()\n",
    "y_encoded = le.fit_transform(y)\n",
    "\n",
    "# Split data\n",
    "X_train, X_test, y_train, y_test = train_test_split(X, y_encoded, test_size=0.2, random_state=42)\n",
    "\n",
    "# Train Random Forest\n",
    "model = RandomForestClassifier(random_state=42)\n",
    "model.fit(X_train, y_train)\n",
    "\n",
    "# Predictions\n",
    "y_pred = model.predict(X_test)\n",
    "\n",
    "# Evaluation\n",
    "print(\"Confusion Matrix:\\n\", confusion_matrix(y_test, y_pred))\n",
    "print(\"\\nClassification Report:\\n\", classification_report(y_test, y_pred, target_names=le.classes_))\n"
   ]
  },
  {
   "cell_type": "code",
   "execution_count": null,
   "id": "ea225c0f-5155-4347-8871-d6c6e728ae1f",
   "metadata": {},
   "outputs": [],
   "source": []
  }
 ],
 "metadata": {
  "kernelspec": {
   "display_name": "tfkernel",
   "language": "python",
   "name": "tfkernel"
  },
  "language_info": {
   "codemirror_mode": {
    "name": "ipython",
    "version": 3
   },
   "file_extension": ".py",
   "mimetype": "text/x-python",
   "name": "python",
   "nbconvert_exporter": "python",
   "pygments_lexer": "ipython3",
   "version": "3.10.2"
  }
 },
 "nbformat": 4,
 "nbformat_minor": 5
}
