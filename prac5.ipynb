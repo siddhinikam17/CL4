{
 "cells": [
  {
   "cell_type": "code",
   "execution_count": 3,
   "id": "34473fdd-a329-4219-9f8a-db35fb603773",
   "metadata": {},
   "outputs": [
    {
     "name": "stdout",
     "output_type": "stream",
     "text": [
      "Collecting deap\n",
      "  Downloading deap-1.4.2-cp312-cp312-win_amd64.whl.metadata (13 kB)\n",
      "Requirement already satisfied: numpy in c:\\users\\hp\\anaconda3\\lib\\site-packages (from deap) (1.26.4)\n",
      "Downloading deap-1.4.2-cp312-cp312-win_amd64.whl (109 kB)\n",
      "   ---------------------------------------- 0.0/109.9 kB ? eta -:--:--\n",
      "   --- ------------------------------------ 10.2/109.9 kB ? eta -:--:--\n",
      "   -------------- ------------------------ 41.0/109.9 kB 487.6 kB/s eta 0:00:01\n",
      "   --------------------- ----------------- 61.4/109.9 kB 656.4 kB/s eta 0:00:01\n",
      "   --------------------- ----------------- 61.4/109.9 kB 656.4 kB/s eta 0:00:01\n",
      "   --------------------- ----------------- 61.4/109.9 kB 656.4 kB/s eta 0:00:01\n",
      "   --------------------- ----------------- 61.4/109.9 kB 656.4 kB/s eta 0:00:01\n",
      "   -------------------------------------- 109.9/109.9 kB 335.5 kB/s eta 0:00:00\n",
      "Installing collected packages: deap\n",
      "Successfully installed deap-1.4.2\n"
     ]
    }
   ],
   "source": [
    "!pip install deap\n"
   ]
  },
  {
   "cell_type": "code",
   "execution_count": 1,
   "id": "ef65e9a1-ab6e-4592-974c-f0e753f73847",
   "metadata": {
    "scrolled": true
   },
   "outputs": [
    {
     "name": "stdout",
     "output_type": "stream",
     "text": [
      "gen\tnevals\n",
      "0  \t20    \n",
      "1  \t17    \n",
      "2  \t18    \n",
      "3  \t16    \n",
      "4  \t18    \n",
      "5  \t15    \n"
     ]
    },
    {
     "name": "stderr",
     "output_type": "stream",
     "text": [
      "C:\\Users\\hp\\anaconda3\\Lib\\site-packages\\sklearn\\neural_network\\_multilayer_perceptron.py:691: ConvergenceWarning: Stochastic Optimizer: Maximum iterations (2000) reached and the optimization hasn't converged yet.\n",
      "  warnings.warn(\n"
     ]
    },
    {
     "name": "stdout",
     "output_type": "stream",
     "text": [
      "6  \t19    \n",
      "7  \t16    \n",
      "8  \t12    \n"
     ]
    },
    {
     "name": "stderr",
     "output_type": "stream",
     "text": [
      "C:\\Users\\hp\\anaconda3\\Lib\\site-packages\\sklearn\\neural_network\\_multilayer_perceptron.py:691: ConvergenceWarning: Stochastic Optimizer: Maximum iterations (2000) reached and the optimization hasn't converged yet.\n",
      "  warnings.warn(\n"
     ]
    },
    {
     "name": "stdout",
     "output_type": "stream",
     "text": [
      "9  \t15    \n",
      "10 \t16    \n",
      "11 \t14    \n",
      "12 \t15    \n",
      "13 \t17    \n",
      "14 \t11    \n",
      "15 \t18    \n",
      "16 \t13    \n",
      "17 \t13    \n",
      "18 \t18    \n",
      "19 \t14    \n"
     ]
    },
    {
     "name": "stderr",
     "output_type": "stream",
     "text": [
      "C:\\Users\\hp\\anaconda3\\Lib\\site-packages\\sklearn\\neural_network\\_multilayer_perceptron.py:691: ConvergenceWarning: Stochastic Optimizer: Maximum iterations (2000) reached and the optimization hasn't converged yet.\n",
      "  warnings.warn(\n"
     ]
    },
    {
     "name": "stdout",
     "output_type": "stream",
     "text": [
      "20 \t10    \n",
      "21 \t17    \n",
      "22 \t16    \n",
      "23 \t10    \n",
      "24 \t14    \n",
      "25 \t16    \n",
      "26 \t12    \n",
      "27 \t18    \n",
      "28 \t19    \n",
      "29 \t14    \n",
      "30 \t13    \n",
      "Best individual: [87, 68]\n"
     ]
    }
   ],
   "source": [
    "import numpy as np\n",
    "from sklearn.neural_network import MLPRegressor\n",
    "from sklearn.model_selection import train_test_split\n",
    "from sklearn.metrics import mean_squared_error\n",
    "from deap import base, creator, tools, algorithms\n",
    "import random\n",
    "\n",
    "# Dummy Spray Drying Data (temperature, pressure, air flow -> moisture content)\n",
    "data = np.random.rand(100, 3)\n",
    "target = data[:, 0] * 0.5 + data[:, 1] * 0.3 + data[:, 2] * 0.2  # Simplified target\n",
    "\n",
    "# Train/Test Split\n",
    "X_train, X_test, y_train, y_test = train_test_split(data, target, test_size=0.2)\n",
    "\n",
    "# Define GA Evaluation Function\n",
    "def evaluate_nn(individual):\n",
    "    # Ensure hidden layers have a minimum size of 1\n",
    "    individual = [max(1, layer_size) for layer_size in individual]\n",
    "    \n",
    "    # Neural Network with individual as parameters\n",
    "    nn = MLPRegressor(hidden_layer_sizes=(individual[0], individual[1]),\n",
    "                      activation='relu', solver='adam', max_iter=2000)\n",
    "\n",
    "    nn.fit(X_train, y_train)\n",
    "    predictions = nn.predict(X_test)\n",
    "    mse = mean_squared_error(y_test, predictions)\n",
    "    return (mse,)\n",
    "\n",
    "# Set up Genetic Algorithm\n",
    "creator.create(\"FitnessMin\", base.Fitness, weights=(-1.0,))\n",
    "creator.create(\"Individual\", list, fitness=creator.FitnessMin)\n",
    "\n",
    "toolbox = base.Toolbox()\n",
    "toolbox.register(\"attr_int\", random.randint, 1, 100)  # Ensure hidden layer size is at least 1\n",
    "toolbox.register(\"individual\", tools.initCycle, creator.Individual, (toolbox.attr_int, toolbox.attr_int), n=1)\n",
    "toolbox.register(\"population\", tools.initRepeat, list, toolbox.individual)\n",
    "toolbox.register(\"mate\", tools.cxTwoPoint)\n",
    "toolbox.register(\"mutate\", tools.mutFlipBit, indpb=0.1)\n",
    "toolbox.register(\"select\", tools.selTournament, tournsize=3)\n",
    "toolbox.register(\"evaluate\", evaluate_nn)\n",
    "\n",
    "# Custom mutation function to avoid 0 hidden layers\n",
    "def mutate_valid(individual):\n",
    "    # Apply mutation\n",
    "    tools.mutFlipBit(individual, indpb=0.1)\n",
    "    \n",
    "    # Ensure hidden layer sizes are at least 1\n",
    "    individual[0] = max(1, individual[0])\n",
    "    individual[1] = max(1, individual[1])\n",
    "    return individual,\n",
    "\n",
    "toolbox.register(\"mutate\", mutate_valid)\n",
    "\n",
    "# Create Population and Run GA\n",
    "population = toolbox.population(n=20)\n",
    "algorithms.eaSimple(population, toolbox, cxpb=0.7, mutpb=0.2, ngen=30, verbose=True)\n",
    "\n",
    "# Output the best individual (optimized NN params)\n",
    "best_individual = tools.selBest(population, 1)[0]\n",
    "print(\"Best individual:\", best_individual)\n"
   ]
  },
  {
   "cell_type": "code",
   "execution_count": null,
   "id": "9bcf2ab1-ca4b-48f8-8115-3e090fee7b84",
   "metadata": {},
   "outputs": [],
   "source": []
  },
  {
   "cell_type": "code",
   "execution_count": null,
   "id": "9b8344e6-57ca-4c99-abb1-503edd3d70ae",
   "metadata": {},
   "outputs": [],
   "source": []
  }
 ],
 "metadata": {
  "kernelspec": {
   "display_name": "Python 3 (ipykernel)",
   "language": "python",
   "name": "python3"
  },
  "language_info": {
   "codemirror_mode": {
    "name": "ipython",
    "version": 3
   },
   "file_extension": ".py",
   "mimetype": "text/x-python",
   "name": "python",
   "nbconvert_exporter": "python",
   "pygments_lexer": "ipython3",
   "version": "3.12.4"
  }
 },
 "nbformat": 4,
 "nbformat_minor": 5
}
