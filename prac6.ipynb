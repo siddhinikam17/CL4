{
 "cells": [
  {
   "cell_type": "code",
   "execution_count": 1,
   "id": "aa6f2a23",
   "metadata": {},
   "outputs": [],
   "source": [
    "import numpy as np\n",
    "import random"
   ]
  },
  {
   "cell_type": "code",
   "execution_count": 3,
   "id": "2a915fe3",
   "metadata": {},
   "outputs": [],
   "source": [
    "# Rastrigin Function (Optimization Objective)\n",
    "def rastrigin(x):\n",
    "    A = 10\n",
    "    return A * len(x) + sum(x_i**2 - A * np.cos(2 * np.pi * x_i) for x_i in x)\n",
    "\n"
   ]
  },
  {
   "cell_type": "code",
   "execution_count": 4,
   "id": "07e3dfe1",
   "metadata": {},
   "outputs": [],
   "source": [
    "# Clonal Selection Algorithm\n",
    "def clonal_selection_algorithm(pop_size, generations, mutation_rate, elite_size):\n",
    "    # Step 1: Initialize population with random values between -5.12 and 5.12\n",
    "    population = np.random.uniform(-5.12, 5.12, (pop_size, 2))\n",
    "    \n",
    "    # Step 2: Start evolution for 'generations' number of generations\n",
    "    for gen in range(generations):\n",
    "        # Step 3: Calculate the fitness for each individual in the population\n",
    "        fitness = np.array([rastrigin(ind) for ind in population])\n",
    "\n",
    "        # Step 4: Select the best (elite) individuals based on their fitness\n",
    "        elite_indices = np.argsort(fitness)[:elite_size]\n",
    "        elite_individuals = population[elite_indices]\n",
    "\n",
    "        # Step 5: Clone the best individuals\n",
    "        clones = elite_individuals.copy()\n",
    "\n",
    "        # Step 6: Mutate the clones slightly (explore new solutions)\n",
    "        for i in range(len(clones)): \n",
    "            if random.random() < mutation_rate:\n",
    "                clones[i] += np.random.uniform(-0.1, 0.1, 2)\n",
    "                clones[i] = np.clip(clones[i], -5.12, 5.12)\n",
    "\n",
    "        # Step 7: Replace the worst individuals with the best clones\n",
    "        worst_indices = np.argsort(fitness)[-elite_size:]\n",
    "        population[worst_indices] = clones\n",
    "\n",
    "        # Step 8: Output the best solution of the current generation\n",
    "        best_solution = population[np.argmin(fitness)]\n",
    "        print(f\"Generation {gen+1}, Best Solution: {best_solution}, Fitness: {rastrigin(best_solution)}\")"
   ]
  },
  {
   "cell_type": "code",
   "execution_count": 5,
   "id": "1d5d5e05",
   "metadata": {},
   "outputs": [],
   "source": [
    "population_size = 20  # Number of individuals\n",
    "generations = 50  # Number of generations to evolve\n",
    "mutation_rate = 0.1  # Chance of mutation in each clone\n",
    "elite_size = 4  # Number of elite individuals to keep"
   ]
  },
  {
   "cell_type": "code",
   "execution_count": 6,
   "id": "07a7425e",
   "metadata": {},
   "outputs": [
    {
     "name": "stdout",
     "output_type": "stream",
     "text": [
      "Generation 1, Best Solution: [ 1.07514955 -0.1355931 ], Fitness: 5.683417038246056\n",
      "Generation 2, Best Solution: [ 1.07514955 -0.1355931 ], Fitness: 5.683417038246056\n",
      "Generation 3, Best Solution: [ 1.07514955 -0.1355931 ], Fitness: 5.683417038246056\n",
      "Generation 4, Best Solution: [ 1.09355942 -0.05848408], Fitness: 3.5455438987285177\n",
      "Generation 5, Best Solution: [ 1.04154381 -0.036029  ], Fitness: 1.679998389111411\n",
      "Generation 6, Best Solution: [ 1.04154381 -0.036029  ], Fitness: 1.679998389111411\n",
      "Generation 7, Best Solution: [ 1.04154381 -0.036029  ], Fitness: 1.679998389111411\n",
      "Generation 8, Best Solution: [ 1.04154381 -0.036029  ], Fitness: 1.679998389111411\n",
      "Generation 9, Best Solution: [ 1.04154381 -0.036029  ], Fitness: 1.679998389111411\n",
      "Generation 10, Best Solution: [ 1.04154381 -0.036029  ], Fitness: 1.679998389111411\n",
      "Generation 11, Best Solution: [ 1.04154381 -0.036029  ], Fitness: 1.679998389111411\n",
      "Generation 12, Best Solution: [ 1.04154381 -0.036029  ], Fitness: 1.679998389111411\n",
      "Generation 13, Best Solution: [ 1.04154381 -0.036029  ], Fitness: 1.679998389111411\n",
      "Generation 14, Best Solution: [ 1.04154381 -0.036029  ], Fitness: 1.679998389111411\n",
      "Generation 15, Best Solution: [ 1.04154381 -0.036029  ], Fitness: 1.679998389111411\n",
      "Generation 16, Best Solution: [ 1.04154381 -0.036029  ], Fitness: 1.679998389111411\n",
      "Generation 17, Best Solution: [ 1.04154381 -0.036029  ], Fitness: 1.679998389111411\n",
      "Generation 18, Best Solution: [ 0.97877453 -0.05029583], Fitness: 1.5445218360176938\n",
      "Generation 19, Best Solution: [ 0.97877453 -0.05029583], Fitness: 1.5445218360176938\n",
      "Generation 20, Best Solution: [ 0.97877453 -0.05029583], Fitness: 1.5445218360176938\n",
      "Generation 21, Best Solution: [ 0.97877453 -0.05029583], Fitness: 1.5445218360176938\n",
      "Generation 22, Best Solution: [ 0.97877453 -0.05029583], Fitness: 1.5445218360176938\n",
      "Generation 23, Best Solution: [ 0.97877453 -0.05029583], Fitness: 1.5445218360176938\n",
      "Generation 24, Best Solution: [ 0.97877453 -0.05029583], Fitness: 1.5445218360176938\n",
      "Generation 25, Best Solution: [ 0.97877453 -0.05029583], Fitness: 1.5445218360176938\n",
      "Generation 26, Best Solution: [ 0.97877453 -0.05029583], Fitness: 1.5445218360176938\n",
      "Generation 27, Best Solution: [ 0.97877453 -0.05029583], Fitness: 1.5445218360176938\n",
      "Generation 28, Best Solution: [ 0.97877453 -0.05029583], Fitness: 1.5445218360176938\n",
      "Generation 29, Best Solution: [ 0.97877453 -0.05029583], Fitness: 1.5445218360176938\n",
      "Generation 30, Best Solution: [ 0.97877453 -0.05029583], Fitness: 1.5445218360176938\n",
      "Generation 31, Best Solution: [ 0.97877453 -0.05029583], Fitness: 1.5445218360176938\n",
      "Generation 32, Best Solution: [ 0.97877453 -0.05029583], Fitness: 1.5445218360176938\n",
      "Generation 33, Best Solution: [ 0.97877453 -0.05029583], Fitness: 1.5445218360176938\n",
      "Generation 34, Best Solution: [ 0.97877453 -0.05029583], Fitness: 1.5445218360176938\n",
      "Generation 35, Best Solution: [ 0.97877453 -0.05029583], Fitness: 1.5445218360176938\n",
      "Generation 36, Best Solution: [ 0.97877453 -0.05029583], Fitness: 1.5445218360176938\n",
      "Generation 37, Best Solution: [ 0.97877453 -0.05029583], Fitness: 1.5445218360176938\n",
      "Generation 38, Best Solution: [ 0.97877453 -0.05029583], Fitness: 1.5445218360176938\n",
      "Generation 39, Best Solution: [ 0.97877453 -0.05029583], Fitness: 1.5445218360176938\n",
      "Generation 40, Best Solution: [ 0.97877453 -0.05029583], Fitness: 1.5445218360176938\n",
      "Generation 41, Best Solution: [ 0.97877453 -0.05029583], Fitness: 1.5445218360176938\n",
      "Generation 42, Best Solution: [ 0.97877453 -0.05029583], Fitness: 1.5445218360176938\n",
      "Generation 43, Best Solution: [ 0.97072149 -0.01925378], Fitness: 1.1844905583970657\n",
      "Generation 44, Best Solution: [ 0.97072149 -0.01925378], Fitness: 1.1844905583970657\n",
      "Generation 45, Best Solution: [ 0.97072149 -0.01925378], Fitness: 1.1844905583970657\n",
      "Generation 46, Best Solution: [ 0.97072149 -0.01925378], Fitness: 1.1844905583970657\n",
      "Generation 47, Best Solution: [ 0.97072149 -0.01925378], Fitness: 1.1844905583970657\n",
      "Generation 48, Best Solution: [ 0.97072149 -0.01925378], Fitness: 1.1844905583970657\n",
      "Generation 49, Best Solution: [ 0.97072149 -0.01925378], Fitness: 1.1844905583970657\n",
      "Generation 50, Best Solution: [ 0.97072149 -0.01925378], Fitness: 1.1844905583970657\n"
     ]
    }
   ],
   "source": [
    "# Run Clonal Selection Algorithm\n",
    "clonal_selection_algorithm(population_size, generations, mutation_rate, elite_size)"
   ]
  },
  {
   "cell_type": "code",
   "execution_count": null,
   "id": "9a554599",
   "metadata": {},
   "outputs": [],
   "source": []
  }
 ],
 "metadata": {
  "kernelspec": {
   "display_name": "Python 3 (ipykernel)",
   "language": "python",
   "name": "python3"
  },
  "language_info": {
   "codemirror_mode": {
    "name": "ipython",
    "version": 3
   },
   "file_extension": ".py",
   "mimetype": "text/x-python",
   "name": "python",
   "nbconvert_exporter": "python",
   "pygments_lexer": "ipython3",
   "version": "3.12.4"
  }
 },
 "nbformat": 4,
 "nbformat_minor": 5
}
