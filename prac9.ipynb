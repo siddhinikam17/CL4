{
 "cells": [
  {
   "cell_type": "code",
   "execution_count": 1,
   "id": "ca3cbb84",
   "metadata": {},
   "outputs": [],
   "source": [
    "import random"
   ]
  },
  {
   "cell_type": "code",
   "execution_count": 2,
   "id": "adf06e9a",
   "metadata": {},
   "outputs": [],
   "source": [
    "# Distance between 4 cities (symmetric matrix)\n",
    "distance = [\n",
    "    [0, 2, 9, 10],\n",
    "    [1, 0, 6, 4],\n",
    "    [15, 7, 0, 8],\n",
    "    [6, 3, 12, 0]\n",
    "]"
   ]
  },
  {
   "cell_type": "code",
   "execution_count": 3,
   "id": "4d574351",
   "metadata": {},
   "outputs": [],
   "source": [
    "num_cities = 4\n",
    "num_ants = 4\n",
    "num_iterations = 50\n",
    "pheromone = [[1 for _ in range(num_cities)] for _ in range(num_cities)]\n",
    "alpha = 1   # pheromone factor\n",
    "beta = 2    # distance factor\n",
    "evaporation = 0.5\n",
    "Q = 100"
   ]
  },
  {
   "cell_type": "code",
   "execution_count": 4,
   "id": "6a0791e9",
   "metadata": {},
   "outputs": [],
   "source": [
    "def calculate_prob(current, visited):\n",
    "    probs = []\n",
    "    total = 0\n",
    "    for j in range(num_cities):\n",
    "        if j not in visited:\n",
    "            tau = pheromone[current][j] ** alpha\n",
    "            eta = (1 / distance[current][j]) ** beta\n",
    "            total += tau * eta\n",
    "            probs.append((j, tau * eta))\n",
    "    return [(city, prob / total) for city, prob in probs]\n",
    "\n",
    "def choose_next(probabilities):\n",
    "    cities = [city for city, _ in probabilities]\n",
    "    weights = [prob for _, prob in probabilities]\n",
    "    return random.choices(cities, weights=weights)[0]"
   ]
  },
  {
   "cell_type": "code",
   "execution_count": 5,
   "id": "8c3352bd",
   "metadata": {},
   "outputs": [],
   "source": [
    "best_path = []\n",
    "best_cost = float('inf')\n",
    "\n",
    "for iteration in range(num_iterations):\n",
    "    all_paths = []\n",
    "    all_costs = []\n",
    "\n",
    "    for ant in range(num_ants):\n",
    "        path = []\n",
    "        visited = set()\n",
    "        current = random.randint(0, num_cities - 1)\n",
    "        path.append(current)\n",
    "        visited.add(current)\n",
    "\n",
    "        while len(path) < num_cities:\n",
    "            probs = calculate_prob(current, visited)\n",
    "            next_city = choose_next(probs)\n",
    "            path.append(next_city)\n",
    "            visited.add(next_city)\n",
    "            current = next_city\n",
    "\n",
    "        path.append(path[0])  # return to start\n",
    "        cost = sum(distance[path[i]][path[i+1]] for i in range(num_cities))\n",
    "        all_paths.append(path)\n",
    "        all_costs.append(cost)\n",
    "\n",
    "        if cost < best_cost:\n",
    "            best_cost = cost\n",
    "            best_path = path\n",
    "\n",
    "    # Update pheromones\n",
    "    for i in range(num_cities):\n",
    "        for j in range(num_cities):\n",
    "            pheromone[i][j] *= (1 - evaporation)\n",
    "\n",
    "    for path, cost in zip(all_paths, all_costs):\n",
    "        for i in range(num_cities):\n",
    "            a, b = path[i], path[i+1]\n",
    "            pheromone[a][b] += Q / cost\n",
    "            pheromone[b][a] += Q / cost"
   ]
  },
  {
   "cell_type": "code",
   "execution_count": 6,
   "id": "a4d314da",
   "metadata": {},
   "outputs": [
    {
     "name": "stdout",
     "output_type": "stream",
     "text": [
      "Best path: [1, 0, 2, 3, 1]\n",
      "Shortest distance: 21\n"
     ]
    }
   ],
   "source": [
    "print(\"Best path:\", best_path)\n",
    "print(\"Shortest distance:\", best_cost)"
   ]
  },
  {
   "cell_type": "code",
   "execution_count": null,
   "id": "fff31e57",
   "metadata": {},
   "outputs": [],
   "source": []
  }
 ],
 "metadata": {
  "kernelspec": {
   "display_name": "Python 3 (ipykernel)",
   "language": "python",
   "name": "python3"
  },
  "language_info": {
   "codemirror_mode": {
    "name": "ipython",
    "version": 3
   },
   "file_extension": ".py",
   "mimetype": "text/x-python",
   "name": "python",
   "nbconvert_exporter": "python",
   "pygments_lexer": "ipython3",
   "version": "3.9.12"
  }
 },
 "nbformat": 4,
 "nbformat_minor": 5
}
