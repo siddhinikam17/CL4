{
 "cells": [
  {
   "cell_type": "markdown",
   "id": "5e6cf148-7878-4e50-af74-0f4129cc776d",
   "metadata": {},
   "source": [
    "5. Perform Sentiment Analysis in the network graph using RNN."
   ]
  },
  {
   "cell_type": "code",
   "execution_count": 15,
   "id": "6aa27d12-cbd3-4df0-b607-b2ea524c2a2c",
   "metadata": {},
   "outputs": [
    {
     "name": "stdout",
     "output_type": "stream",
     "text": [
      "Epoch 1/5\n",
      "\u001b[1m3/3\u001b[0m \u001b[32m━━━━━━━━━━━━━━━━━━━━\u001b[0m\u001b[37m\u001b[0m \u001b[1m3s\u001b[0m 26ms/step - accuracy: 0.7125 - loss: 0.6936\n",
      "Epoch 2/5\n",
      "\u001b[1m3/3\u001b[0m \u001b[32m━━━━━━━━━━━━━━━━━━━━\u001b[0m\u001b[37m\u001b[0m \u001b[1m0s\u001b[0m 23ms/step - accuracy: 0.7375 - loss: 0.6841\n",
      "Epoch 3/5\n",
      "\u001b[1m3/3\u001b[0m \u001b[32m━━━━━━━━━━━━━━━━━━━━\u001b[0m\u001b[37m\u001b[0m \u001b[1m0s\u001b[0m 19ms/step - accuracy: 0.5500 - loss: 0.6774\n",
      "Epoch 4/5\n",
      "\u001b[1m3/3\u001b[0m \u001b[32m━━━━━━━━━━━━━━━━━━━━\u001b[0m\u001b[37m\u001b[0m \u001b[1m0s\u001b[0m 21ms/step - accuracy: 0.4250 - loss: 0.6786    \n",
      "Epoch 5/5\n",
      "\u001b[1m3/3\u001b[0m \u001b[32m━━━━━━━━━━━━━━━━━━━━\u001b[0m\u001b[37m\u001b[0m \u001b[1m0s\u001b[0m 19ms/step - accuracy: 0.5500 - loss: 0.6618\n"
     ]
    },
    {
     "data": {
      "text/plain": [
       "<keras.src.callbacks.history.History at 0x2a4200ef130>"
      ]
     },
     "execution_count": 15,
     "metadata": {},
     "output_type": "execute_result"
    }
   ],
   "source": [
    "import numpy as np\n",
    "# Sample data (replace this with your actual dataset)\n",
    "texts = [\n",
    "    \"I love this product!\",\n",
    "    \"This is terrible and I hate it.\",\n",
    "    \"Absolutely amazing experience.\",\n",
    "    \"Not good, very disappointing.\",\n",
    "    \"I'm so happy with the service.\"\n",
    "]\n",
    "\n",
    "\n",
    "labels = np.array([1, 0, 1, 0, 1])\n",
    "\n",
    "# Tokenize and preprocess\n",
    "\n",
    "from tensorflow.keras.preprocessing.text import Tokenizer\n",
    "from tensorflow.keras.preprocessing.sequence import pad_sequences\n",
    "\n",
    "tokenizer = Tokenizer(num_words=5000)\n",
    "tokenizer.fit_on_texts(texts)\n",
    "sequences = tokenizer.texts_to_sequences(texts)\n",
    "X = pad_sequences(sequences, maxlen=10)\n",
    "\n",
    "# Build the RNN model\n",
    "from tensorflow.keras.models import Sequential\n",
    "from tensorflow.keras.layers import Embedding, LSTM, Dense\n",
    "\n",
    "model = Sequential()\n",
    "model.add(Embedding(input_dim=5000, output_dim=64, input_length=10))\n",
    "model.add(LSTM(64))\n",
    "model.add(Dense(1, activation='sigmoid'))\n",
    "\n",
    "model.compile(loss='binary_crossentropy', optimizer='adam', metrics=['accuracy'])\n",
    "model.fit(X, labels, epochs=5, batch_size=2)\n"
   ]
  },
  {
   "cell_type": "code",
   "execution_count": 43,
   "id": "1ace43f5-fa76-479c-a4ad-457605746a58",
   "metadata": {},
   "outputs": [
    {
     "data": {
      "image/png": "[encoded data removed]",
      "text/plain": [
       "<Figure size 640x480 with 1 Axes>"
      ]
     },
     "metadata": {},
     "output_type": "display_data"
    }
   ],
   "source": [
    "import networkx as nx\n",
    "import matplotlib.pyplot as plt\n",
    "\n",
    "\n",
    "# Define a simple graph\n",
    "edge_list = [(0, 1), (1, 2), (2, 3), (3, 4)]\n",
    "\n",
    "G = nx.Graph()\n",
    "G.add_edges_from(edge_list)\n",
    "\n",
    "\n",
    "\n",
    "#real_predictions = model.predict(X)\n",
    "#real_labels = (real_predictions > 0.5).astype(int).flatten())\n",
    "\n",
    "\n",
    "\n",
    "# Fake predictions from your model (replace with actual model.predict if needed)\n",
    "fake_predictions = np.array([1, 0, 1, 0, 1])  # 1 = positive, 0 = negative\n",
    "\n",
    "# Assign sentiment to nodes\n",
    "for i, node in enumerate(G.nodes()):\n",
    "    G.nodes[node]['sentiment'] = fake_predictions[i]\n",
    "\n",
    "# Color node based on sentiment\n",
    "colors = ['green' if G.nodes[n]['sentiment'] == 1 else 'red' for n in G.nodes()]\n",
    "\n",
    "nx.draw(G, with_labels=True, node_color=colors, node_size=800, font_color='white')\n",
    "plt.title(\"Sentiment Analysis on Network Graph\")\n",
    "plt.show()\n"
   ]
  },
  {
   "cell_type": "code",
   "execution_count": 1,
   "id": "9babdda3-6b71-434a-a1ed-cfb382c219f6",
   "metadata": {},
   "outputs": [
    {
     "name": "stderr",
     "output_type": "stream",
     "text": [
      "C:\\Users\\hp\\Desktop\\TFProj\\tfvenv\\lib\\site-packages\\keras\\src\\layers\\core\\embedding.py:90: UserWarning: Argument `input_length` is deprecated. Just remove it.\n",
      "  warnings.warn(\n"
     ]
    },
    {
     "name": "stdout",
     "output_type": "stream",
     "text": [
      "Epoch 1/5\n",
      "\u001b[1m3/3\u001b[0m \u001b[32m━━━━━━━━━━━━━━━━━━━━\u001b[0m\u001b[37m\u001b[0m \u001b[1m2s\u001b[0m 17ms/step - accuracy: 0.1625 - loss: 0.7179  \n",
      "Epoch 2/5\n",
      "\u001b[1m3/3\u001b[0m \u001b[32m━━━━━━━━━━━━━━━━━━━━\u001b[0m\u001b[37m\u001b[0m \u001b[1m0s\u001b[0m 20ms/step - accuracy: 1.0000 - loss: 0.6050\n",
      "Epoch 3/5\n",
      "\u001b[1m3/3\u001b[0m \u001b[32m━━━━━━━━━━━━━━━━━━━━\u001b[0m\u001b[37m\u001b[0m \u001b[1m0s\u001b[0m 22ms/step - accuracy: 1.0000 - loss: 0.5012\n",
      "Epoch 4/5\n",
      "\u001b[1m3/3\u001b[0m \u001b[32m━━━━━━━━━━━━━━━━━━━━\u001b[0m\u001b[37m\u001b[0m \u001b[1m0s\u001b[0m 19ms/step - accuracy: 1.0000 - loss: 0.4693\n",
      "Epoch 5/5\n",
      "\u001b[1m3/3\u001b[0m \u001b[32m━━━━━━━━━━━━━━━━━━━━\u001b[0m\u001b[37m\u001b[0m \u001b[1m0s\u001b[0m 20ms/step - accuracy: 1.0000 - loss: 0.3837\n",
      "\u001b[1m1/1\u001b[0m \u001b[32m━━━━━━━━━━━━━━━━━━━━\u001b[0m\u001b[37m\u001b[0m \u001b[1m0s\u001b[0m 362ms/step - accuracy: 1.0000 - loss: 0.3345\n",
      "\n",
      "Evaluation:\n",
      "Loss: 0.3345, Accuracy: 1.0000\n",
      "\u001b[1m1/1\u001b[0m \u001b[32m━━━━━━━━━━━━━━━━━━━━\u001b[0m\u001b[37m\u001b[0m \u001b[1m0s\u001b[0m 288ms/step\n",
      "\n",
      "Predictions:\n",
      "Review: The house was cozy and well-lit.\n",
      "Predicted Sentiment: Positive (0.63)\n",
      "\n",
      "Review: Worst property I’ve ever stayed in.\n",
      "Predicted Sentiment: Positive (0.59)\n",
      "\n",
      "Review: Nice and quiet place.\n",
      "Predicted Sentiment: Positive (0.61)\n",
      "\n",
      "Review: Too dirty and badly maintained.\n",
      "Predicted Sentiment: Positive (0.61)\n",
      "\n"
     ]
    }
   ],
   "source": [
    "import numpy as np\n",
    "\n",
    "# Simulated property review texts and binary sentiment labels (1 = positive, 0 = negative)\n",
    "texts = [\n",
    "    \"The apartment was clean and spacious.\",\n",
    "    \"Terrible service and noisy neighborhood.\",\n",
    "    \"I had a wonderful experience staying here.\",\n",
    "    \"Walls were damp and the bathroom smelled bad.\",\n",
    "    \"Great location and helpful landlord!\"\n",
    "]\n",
    "\n",
    "labels = np.array([1, 0, 1, 0, 1])\n",
    "\n",
    "# Tokenize and preprocess\n",
    "from tensorflow.keras.preprocessing.text import Tokenizer\n",
    "from tensorflow.keras.preprocessing.sequence import pad_sequences\n",
    "\n",
    "tokenizer = Tokenizer(num_words=5000)\n",
    "tokenizer.fit_on_texts(texts)\n",
    "sequences = tokenizer.texts_to_sequences(texts)\n",
    "X = pad_sequences(sequences, maxlen=10)\n",
    "\n",
    "# Build the RNN model\n",
    "from tensorflow.keras.models import Sequential\n",
    "from tensorflow.keras.layers import Embedding, SimpleRNN, Dense\n",
    "\n",
    "model = Sequential()\n",
    "model.add(Embedding(input_dim=5000, output_dim=64, input_length=10))\n",
    "model.add(SimpleRNN(64))\n",
    "model.add(Dense(1, activation='sigmoid'))\n",
    "\n",
    "model.compile(loss='binary_crossentropy', optimizer='adam', metrics=['accuracy'])\n",
    "\n",
    "# Train the model\n",
    "model.fit(X, labels, epochs=5, batch_size=2)\n",
    "\n",
    "# -------------------------\n",
    "# 🧪 Evaluate the model\n",
    "loss, accuracy = model.evaluate(X, labels)\n",
    "print(f\"\\nEvaluation:\\nLoss: {loss:.4f}, Accuracy: {accuracy:.4f}\")\n",
    "\n",
    "# -------------------------\n",
    "# 🔮 Predict sentiment for new reviews\n",
    "new_reviews = [\n",
    "    \"The house was cozy and well-lit.\",\n",
    "    \"Worst property I’ve ever stayed in.\",\n",
    "    \"Nice and quiet place.\",\n",
    "    \"Too dirty and badly maintained.\"\n",
    "]\n",
    "\n",
    "# Preprocess new reviews\n",
    "new_sequences = tokenizer.texts_to_sequences(new_reviews)\n",
    "new_padded = pad_sequences(new_sequences, maxlen=10)\n",
    "\n",
    "# Predict\n",
    "predictions = model.predict(new_padded)\n",
    "\n",
    "# Show results\n",
    "print(\"\\nPredictions:\")\n",
    "for review, pred in zip(new_reviews, predictions):\n",
    "    sentiment = \"Positive\" if pred > 0.5 else \"Negative\"\n",
    "    print(f\"Review: {review}\\nPredicted Sentiment: {sentiment} ({pred[0]:.2f})\\n\")\n"
   ]
  },
  {
   "cell_type": "code",
   "execution_count": null,
   "id": "b90c93d2-490c-412e-b3fc-69c609f9368f",
   "metadata": {},
   "outputs": [],
   "source": []
  }
 ],
 "metadata": {
  "kernelspec": {
   "display_name": "tfkernel",
   "language": "python",
   "name": "tfkernel"
  },
  "language_info": {
   "codemirror_mode": {
    "name": "ipython",
    "version": 3
   },
   "file_extension": ".py",
   "mimetype": "text/x-python",
   "name": "python",
   "nbconvert_exporter": "python",
   "pygments_lexer": "ipython3",
   "version": "3.10.2"
  }
 },
 "nbformat": 4,
 "nbformat_minor": 5
}
